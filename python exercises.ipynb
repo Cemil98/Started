{
 "cells": [
  {
   "cell_type": "code",
   "execution_count": 4,
   "metadata": {},
   "outputs": [
    {
     "data": {
      "text/plain": [
       "3.8013271108436504"
      ]
     },
     "execution_count": 4,
     "metadata": {},
     "output_type": "execute_result"
    }
   ],
   "source": [
    "#Write a Python program which accepts the radius of a circle from the user and compute the area\n",
    "import math as m\n",
    "\n",
    "def circle(radius):\n",
    "    area = m.pi*(radius)**2\n",
    "    \n",
    "    return area\n",
    "\n",
    "circle(1.1)"
   ]
  },
  {
   "cell_type": "code",
   "execution_count": 5,
   "metadata": {},
   "outputs": [],
   "source": [
    "#computed area of circle"
   ]
  },
  {
   "cell_type": "code",
   "execution_count": 8,
   "metadata": {},
   "outputs": [
    {
     "name": "stdout",
     "output_type": "stream",
     "text": [
      "semih senturk\n"
     ]
    }
   ],
   "source": [
    "first = 'semih'\n",
    "last = 'senturk'\n",
    "\n",
    "print(first, last)"
   ]
  },
  {
   "cell_type": "code",
   "execution_count": 12,
   "metadata": {},
   "outputs": [
    {
     "name": "stdout",
     "output_type": "stream",
     "text": [
      "semih senturk\n"
     ]
    },
    {
     "ename": "TypeError",
     "evalue": "'NoneType' object is not reversible",
     "output_type": "error",
     "traceback": [
      "\u001b[0;31m---------------------------------------------------------------------------\u001b[0m",
      "\u001b[0;31mTypeError\u001b[0m                                 Traceback (most recent call last)",
      "\u001b[0;32m<ipython-input-12-70d106f64936>\u001b[0m in \u001b[0;36m<module>\u001b[0;34m\u001b[0m\n\u001b[0;32m----> 1\u001b[0;31m \u001b[0mreversed\u001b[0m\u001b[0;34m(\u001b[0m\u001b[0mprint\u001b[0m\u001b[0;34m(\u001b[0m\u001b[0mfirst\u001b[0m\u001b[0;34m,\u001b[0m\u001b[0mlast\u001b[0m\u001b[0;34m)\u001b[0m\u001b[0;34m)\u001b[0m\u001b[0;34m\u001b[0m\u001b[0;34m\u001b[0m\u001b[0m\n\u001b[0m",
      "\u001b[0;31mTypeError\u001b[0m: 'NoneType' object is not reversible"
     ]
    }
   ],
   "source": [
    "reversed(print(first,last))"
   ]
  },
  {
   "cell_type": "code",
   "execution_count": 26,
   "metadata": {},
   "outputs": [
    {
     "name": "stdout",
     "output_type": "stream",
     "text": [
      "values3 5 7 23\n"
     ]
    },
    {
     "ename": "TypeError",
     "evalue": "'tuple' object is not callable",
     "output_type": "error",
     "traceback": [
      "\u001b[0;31m---------------------------------------------------------------------------\u001b[0m",
      "\u001b[0;31mTypeError\u001b[0m                                 Traceback (most recent call last)",
      "\u001b[0;32m<ipython-input-26-98c15330fc2f>\u001b[0m in \u001b[0;36m<module>\u001b[0;34m\u001b[0m\n\u001b[1;32m      1\u001b[0m \u001b[0msequence\u001b[0m \u001b[0;34m=\u001b[0m \u001b[0minput\u001b[0m\u001b[0;34m(\u001b[0m\u001b[0;34m'values'\u001b[0m\u001b[0;34m)\u001b[0m\u001b[0;34m\u001b[0m\u001b[0;34m\u001b[0m\u001b[0m\n\u001b[1;32m      2\u001b[0m \u001b[0mlists\u001b[0m \u001b[0;34m=\u001b[0m \u001b[0msequence\u001b[0m\u001b[0;34m.\u001b[0m\u001b[0msplit\u001b[0m\u001b[0;34m(\u001b[0m\u001b[0;34m','\u001b[0m\u001b[0;34m)\u001b[0m\u001b[0;34m\u001b[0m\u001b[0;34m\u001b[0m\u001b[0m\n\u001b[0;32m----> 3\u001b[0;31m \u001b[0mtuples\u001b[0m \u001b[0;34m=\u001b[0m \u001b[0mtuple\u001b[0m\u001b[0;34m(\u001b[0m\u001b[0mlist\u001b[0m\u001b[0;34m)\u001b[0m\u001b[0;34m\u001b[0m\u001b[0;34m\u001b[0m\u001b[0m\n\u001b[0m\u001b[1;32m      4\u001b[0m \u001b[0mprint\u001b[0m\u001b[0;34m(\u001b[0m\u001b[0;34m'list'\u001b[0m\u001b[0;34m,\u001b[0m \u001b[0mlists\u001b[0m\u001b[0;34m)\u001b[0m\u001b[0;34m\u001b[0m\u001b[0;34m\u001b[0m\u001b[0m\n\u001b[1;32m      5\u001b[0m \u001b[0mprint\u001b[0m\u001b[0;34m(\u001b[0m\u001b[0;34m'Tuple'\u001b[0m\u001b[0;34m,\u001b[0m \u001b[0mtuples\u001b[0m\u001b[0;34m)\u001b[0m\u001b[0;34m\u001b[0m\u001b[0;34m\u001b[0m\u001b[0m\n",
      "\u001b[0;31mTypeError\u001b[0m: 'tuple' object is not callable"
     ]
    }
   ],
   "source": [
    "sequence = input('values')\n",
    "lists = sequence.split(',')\n",
    "tuples = tuple(list)\n",
    "print('list', lists)\n",
    "print('Tuple', tuples)\n",
    "\n",
    "\n",
    "\n"
   ]
  },
  {
   "cell_type": "code",
   "execution_count": 28,
   "metadata": {},
   "outputs": [
    {
     "name": "stdout",
     "output_type": "stream",
     "text": [
      "Red , Black\n"
     ]
    }
   ],
   "source": [
    "color_list = [\"Red\",\"Green\",\"White\" ,\"Black\"]\n",
    "#we want to print first and last colours\n",
    "\n",
    "print(color_list[0], ',', color_list[3])"
   ]
  },
  {
   "cell_type": "code",
   "execution_count": 38,
   "metadata": {},
   "outputs": [
    {
     "name": "stdout",
     "output_type": "stream",
     "text": [
      " The examination will start from : 17/1/2020\n"
     ]
    }
   ],
   "source": [
    "exdate = (17,1,2020)\n",
    "#exdate1 = exdate.split('\\')\n",
    "print(' The examination will start from : %i/%i/%i'% exdate)"
   ]
  },
  {
   "cell_type": "code",
   "execution_count": 43,
   "metadata": {},
   "outputs": [],
   "source": [
    "def cubic(n):\n",
    "    n = \n",
    "    sum1 = n + nn + nnn\n",
    "    return sum1"
   ]
  },
  {
   "cell_type": "code",
   "execution_count": 42,
   "metadata": {},
   "outputs": [
    {
     "ename": "NameError",
     "evalue": "name 'nn' is not defined",
     "output_type": "error",
     "traceback": [
      "\u001b[0;31m---------------------------------------------------------------------------\u001b[0m",
      "\u001b[0;31mNameError\u001b[0m                                 Traceback (most recent call last)",
      "\u001b[0;32m<ipython-input-42-57ac62ca3dae>\u001b[0m in \u001b[0;36m<module>\u001b[0;34m\u001b[0m\n\u001b[0;32m----> 1\u001b[0;31m \u001b[0mcubic\u001b[0m\u001b[0;34m(\u001b[0m\u001b[0;36m5\u001b[0m\u001b[0;34m)\u001b[0m\u001b[0;34m\u001b[0m\u001b[0;34m\u001b[0m\u001b[0m\n\u001b[0m",
      "\u001b[0;32m<ipython-input-41-c75f4da31751>\u001b[0m in \u001b[0;36mcubic\u001b[0;34m(n)\u001b[0m\n\u001b[1;32m      1\u001b[0m \u001b[0;32mdef\u001b[0m \u001b[0mcubic\u001b[0m\u001b[0;34m(\u001b[0m\u001b[0mn\u001b[0m\u001b[0;34m)\u001b[0m\u001b[0;34m:\u001b[0m\u001b[0;34m\u001b[0m\u001b[0;34m\u001b[0m\u001b[0m\n\u001b[0;32m----> 2\u001b[0;31m     \u001b[0msum1\u001b[0m \u001b[0;34m=\u001b[0m \u001b[0mn\u001b[0m \u001b[0;34m+\u001b[0m \u001b[0mnn\u001b[0m \u001b[0;34m+\u001b[0m \u001b[0mnnn\u001b[0m\u001b[0;34m\u001b[0m\u001b[0;34m\u001b[0m\u001b[0m\n\u001b[0m\u001b[1;32m      3\u001b[0m     \u001b[0;32mreturn\u001b[0m \u001b[0msum1\u001b[0m\u001b[0;34m\u001b[0m\u001b[0;34m\u001b[0m\u001b[0m\n",
      "\u001b[0;31mNameError\u001b[0m: name 'nn' is not defined"
     ]
    }
   ],
   "source": [
    "cubic(5)"
   ]
  },
  {
   "cell_type": "code",
   "execution_count": 84,
   "metadata": {},
   "outputs": [
    {
     "data": {
      "text/plain": [
       "904.7786842338603"
      ]
     },
     "execution_count": 84,
     "metadata": {},
     "output_type": "execute_result"
    }
   ],
   "source": [
    "import math as m\n",
    "\n",
    "def sphere(radius):\n",
    "    volume = (4/3)*m.pi*(radius)**3\n",
    "    return volume\n",
    "\n",
    "sphere(6)\n",
    "\n",
    "\n",
    "\n",
    "\n",
    "\n"
   ]
  },
  {
   "cell_type": "code",
   "execution_count": 57,
   "metadata": {},
   "outputs": [
    {
     "name": "stdout",
     "output_type": "stream",
     "text": [
      "Input a Value:0\n",
      "34\n"
     ]
    }
   ],
   "source": [
    "#. Write a Python program to get the difference between a given number and 17,\n",
    "#if the number is greater than 17 return double the absolute difference.\n",
    "\n",
    "a = int(input(\"Input a Value:\",))\n",
    "b = 17\n",
    "c = abs(a - b)\n",
    "if c >= 17:\n",
    "    print(2*c)\n",
    "else:\n",
    "    print(c, \"is a difference less than 17\")\n"
   ]
  },
  {
   "cell_type": "code",
   "execution_count": 62,
   "metadata": {},
   "outputs": [
    {
     "name": "stdout",
     "output_type": "stream",
     "text": [
      "Input any value:5\n",
      "5.0 is within 100\n"
     ]
    }
   ],
   "source": [
    "#Write a Python program to test whether a number is within 100 of 1000 or 2000.\n",
    "\n",
    "\n",
    "x = float(input(\"Input any value:\",))\n",
    "if x<0:\n",
    "    print(\"Insert a positive value\")\n",
    "elif x>=0 and x<100:\n",
    "    print(x, \"is within 100\")\n",
    "elif x<1000:\n",
    "     print(x, \"is within 1000\")\n",
    "elif x<2000:\n",
    "     print(x, \"is within 2000\")\n",
    "else:\n",
    "    print(\"Value too high\")\n",
    "\n",
    "    \n",
    "# code works to test value if it is within a certain range."
   ]
  },
  {
   "cell_type": "code",
   "execution_count": 66,
   "metadata": {},
   "outputs": [
    {
     "name": "stdout",
     "output_type": "stream",
     "text": [
      "5\n",
      "6\n",
      "7\n",
      "18\n"
     ]
    }
   ],
   "source": [
    "#Write a Python program to calculate the \n",
    "#sum of three given numbers, if the values are equal then return three times of their sum\n",
    "\n",
    "\n",
    "a = int(input())\n",
    "b = int(input())\n",
    "c = int(input())\n",
    "\n",
    "if a==b==c:\n",
    "    print(3*(a+b+c))\n",
    "else:\n",
    "    print(a+b+c)"
   ]
  },
  {
   "cell_type": "code",
   "execution_count": null,
   "metadata": {},
   "outputs": [],
   "source": []
  },
  {
   "cell_type": "code",
   "execution_count": 18,
   "metadata": {},
   "outputs": [
    {
     "name": "stdout",
     "output_type": "stream",
     "text": [
      "10\n"
     ]
    }
   ],
   "source": [
    "#Write a Python program to count the number 4 in a given list\n",
    "\n",
    "list1 = [1,2,3,4,45,5,6,7,8,8,4,4,4,5,4,4,4,4,4,4]\n",
    "\n",
    "total = 0\n",
    "for x in list1:\n",
    "    if x == 4:\n",
    "        total = total + 1\n",
    "print(total)\n",
    "\n",
    "# the code above prints the number of 4 in a list and as we can see when have 10 number 4s in our list."
   ]
  },
  {
   "cell_type": "code",
   "execution_count": 25,
   "metadata": {},
   "outputs": [
    {
     "name": "stdout",
     "output_type": "stream",
     "text": [
      "False\n",
      "True\n"
     ]
    }
   ],
   "source": [
    "# Write a Python program to check whether a specified value is contained in a group of values.\n",
    "\n",
    "\n",
    "\n",
    "listt = [1,5,8,3]\n",
    "\n",
    "\n",
    "def inlist(number):\n",
    "    if number in listt:\n",
    "        print(True)\n",
    "    else:\n",
    "        print(False)\n",
    "        \n",
    "inlist(4)\n",
    "inlist(3)\n",
    "\n",
    "# the code works and checks if the number we input is in the list"
   ]
  },
  {
   "cell_type": "code",
   "execution_count": 33,
   "metadata": {},
   "outputs": [
    {
     "data": {
      "text/plain": [
       "Text(0, 0.5, 'y')"
      ]
     },
     "execution_count": 33,
     "metadata": {},
     "output_type": "execute_result"
    },
    {
     "data": {
      "image/png": "[encoded data removed]",
      "text/plain": [
       "<Figure size 432x288 with 1 Axes>"
      ]
     },
     "metadata": {
      "needs_background": "light"
     },
     "output_type": "display_data"
    }
   ],
   "source": [
    "from numpy import random\n",
    "from matplotlib import pyplot as plt\n",
    "x = random.sample((100))\n",
    "#print(x)\n",
    "y = random.sample(100)\n",
    "\n",
    "\n",
    "plt.plot(x,y)\n",
    "plt.xlabel(\"x\")\n",
    "plt.ylabel(\"y\")"
   ]
  },
  {
   "cell_type": "code",
   "execution_count": 64,
   "metadata": {},
   "outputs": [
    {
     "name": "stdout",
     "output_type": "stream",
     "text": [
      ">237\n",
      ">237\n",
      ">237\n",
      ">237\n",
      ">237\n",
      "236\n",
      ">237\n",
      ">237\n",
      ">237\n",
      ">237\n",
      ">237\n",
      ">237\n",
      ">237\n",
      ">237\n",
      ">237\n",
      ">237\n",
      "162\n",
      ">237\n",
      ">237\n",
      ">237\n",
      ">237\n",
      ">237\n",
      ">237\n",
      ">237\n",
      ">237\n",
      ">237\n",
      ">237\n",
      ">237\n",
      ">237\n",
      "104\n",
      "58\n",
      ">237\n",
      "24\n",
      ">237\n",
      ">237\n",
      ">237\n",
      ">237\n",
      ">237\n",
      ">237\n",
      ">237\n",
      ">237\n",
      ">237\n",
      ">237\n",
      ">237\n",
      ">237\n",
      ">237\n",
      "10 this is the number of values less than 237 and even in this array of numbers\n"
     ]
    }
   ],
   "source": [
    "#Write a Python program to print all even numbers from a given numbers list in the same \n",
    "#order and stop the printing if any numbers that come after 237 in the sequence\n",
    "\n",
    "\n",
    "\n",
    "\n",
    "numbers = [    \n",
    "    386, 462, 47, 418, 907, 344, 236, 375, 823, 566, 597, 978, 328, 615, 953, 345, \n",
    "    399, 162, 758, 219, 918, 237, 412, 566, 826, 248, 866, 950, 626, 949, 687, 217, \n",
    "    815, 67, 104, 58, 512, 24, 892, 894, 767, 553, 81, 379, 843, 831, 445, 742, 717, \n",
    "    958,743, 527\n",
    "    ]\n",
    "\n",
    "for i in numbers:\n",
    "    if i > 237:\n",
    "        print('>237')\n",
    "    elif i%2 == 0:\n",
    "        print(i)\n",
    "        \n",
    "        \n",
    "total = 0\n",
    "for x in numbers:\n",
    "    if x < 237:\n",
    "        total = total + 1\n",
    "print(total, 'this is the number of values less than 237 and even in this array of numbers')\n"
   ]
  },
  {
   "cell_type": "code",
   "execution_count": 72,
   "metadata": {},
   "outputs": [
    {
     "name": "stdout",
     "output_type": "stream",
     "text": [
      "{'White', 'Black'}\n"
     ]
    }
   ],
   "source": [
    "#Write a Python program to print out a set containing\n",
    "#all the colors from color_list_1 which are not present in color_list_2\n",
    "\n",
    "\n",
    "\n",
    "color_list_1 = set([\"White\", \"Black\", \"Red\"]) \n",
    "color_list_2 = set([\"Red\", \"Green\"])\n",
    "\n",
    "\n",
    "\n",
    "    \n",
    "    \n",
    "print(color_list_1.difference(color_list_2))\n",
    "\n",
    "\n",
    "#the built in difference function helps us distinguish between the two lists."
   ]
  },
  {
   "cell_type": "code",
   "execution_count": 81,
   "metadata": {},
   "outputs": [
    {
     "name": "stdout",
     "output_type": "stream",
     "text": [
      "4\n",
      "12\n",
      "20\n"
     ]
    }
   ],
   "source": [
    "#Write a Python program to sum of two given integers. \n",
    "#However, if the sum is between 15 to 20 it will return 20.\n",
    "\n",
    "\n",
    "a = int(input())\n",
    "b = int(input())\n",
    "c = (a+b)\n",
    "\n",
    "if c >=15 and c <= 20:\n",
    "    print(20)\n",
    "else:\n",
    "    print(c)\n",
    "    \n",
    "\n",
    "#our code has executed the function perfectly."
   ]
  },
  {
   "cell_type": "code",
   "execution_count": 16,
   "metadata": {},
   "outputs": [
    {
     "name": "stdout",
     "output_type": "stream",
     "text": [
      "<function truee at 0x1089e1620>\n"
     ]
    }
   ],
   "source": [
    "#Write a Python program that will return true if the \n",
    "#two given integer values are equal or their sum or difference is 5\n",
    "\n",
    "\n",
    "def truee(a,b):\n",
    "    c = a - b\n",
    "    if c == 5:\n",
    "        print(truee)\n",
    "\n",
    "    \n",
    "    \n",
    "truee(10,5)"
   ]
  },
  {
   "cell_type": "code",
   "execution_count": 17,
   "metadata": {},
   "outputs": [
    {
     "data": {
      "text/plain": [
       "49"
      ]
     },
     "execution_count": 17,
     "metadata": {},
     "output_type": "execute_result"
    }
   ],
   "source": [
    "# Write a Python program to solve (x + y) * (x + y). Go to the editor\n",
    "#Test Data : x = 4, y = 3\n",
    "#Expected Output : (4 + 3) ^ 2) = 49\n",
    "\n",
    "\n",
    "\n",
    "def quadratic(x,y):\n",
    "    c = (x+y)**2\n",
    "    return c\n",
    "\n",
    "quadratic(4,3)"
   ]
  },
  {
   "cell_type": "code",
   "execution_count": 26,
   "metadata": {},
   "outputs": [
    {
     "data": {
      "text/plain": [
       "16487.212707001283"
      ]
     },
     "execution_count": 26,
     "metadata": {},
     "output_type": "execute_result"
    }
   ],
   "source": [
    "#Write a Python program to compute the future value of a \n",
    "#specified principal amount, rate of interest, and a number of years.\n",
    "\n",
    "#est Data : amt = 10000, int = 3.5, years = 7\n",
    "\n",
    "#using exponentials\n",
    "import math as m\n",
    "\n",
    "def yearvalue(a,i,y):\n",
    "    \n",
    "    a1 = a*((m.exp(i/y)))\n",
    "    return a1\n",
    "\n",
    "yearvalue(10000,3.5,7)"
   ]
  },
  {
   "cell_type": "code",
   "execution_count": null,
   "metadata": {},
   "outputs": [],
   "source": []
  },
  {
   "cell_type": "code",
   "execution_count": null,
   "metadata": {},
   "outputs": [],
   "source": []
  },
  {
   "cell_type": "code",
   "execution_count": null,
   "metadata": {},
   "outputs": [],
   "source": []
  },
  {
   "cell_type": "code",
   "execution_count": null,
   "metadata": {},
   "outputs": [],
   "source": []
  },
  {
   "cell_type": "code",
   "execution_count": null,
   "metadata": {},
   "outputs": [],
   "source": []
  }
 ],
 "metadata": {
  "kernelspec": {
   "display_name": "Python 3",
   "language": "python",
   "name": "python3"
  },
  "language_info": {
   "codemirror_mode": {
    "name": "ipython",
    "version": 3
   },
   "file_extension": ".py",
   "mimetype": "text/x-python",
   "name": "python",
   "nbconvert_exporter": "python",
   "pygments_lexer": "ipython3",
   "version": "3.7.1"
  }
 },
 "nbformat": 4,
 "nbformat_minor": 2
}
